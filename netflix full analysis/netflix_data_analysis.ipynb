{
 "cells": [
  {
   "cell_type": "markdown",
   "metadata": {},
   "source": [
    "**NETFLIX DATA VISUALIZATION**\n"
   ]
  },
  {
   "cell_type": "markdown",
   "metadata": {},
   "source": [
    "this dataset contains the details of netflix shows and movies. it contains 8809 rows and 12 columns\n",
    "\n",
    "show_id\n",
    "\n",
    "type\n",
    "\n",
    "title\n",
    "\n",
    "director\n",
    "\n",
    "cast\n",
    "\n",
    "country\n",
    "\n",
    "date_added\n",
    "\n",
    "release_year\n",
    "\n",
    "rating\n",
    "\n",
    "duration\n",
    "\n",
    "listed_in\n",
    "\n",
    "description\n"
   ]
  },
  {
   "cell_type": "markdown",
   "metadata": {},
   "source": []
  },
  {
   "cell_type": "code",
   "execution_count": null,
   "metadata": {},
   "outputs": [],
   "source": [
    "import pandas as pd\n",
    "import matplotlib.pyplot as plt\n",
    "import numpy as np\n",
    "import seaborn as sns"
   ]
  },
  {
   "cell_type": "code",
   "execution_count": null,
   "metadata": {},
   "outputs": [],
   "source": [
    "netflix_data=pd.read_csv(\"netflix_titles.csv\", encoding='unicode_escape')#it gave me error when i was reading csv so encoding ='unicode_escape' cleared it"
   ]
  },
  {
   "cell_type": "code",
   "execution_count": null,
   "metadata": {},
   "outputs": [],
   "source": [
    "netflix_data.head()#head of the data\n",
    "netflix_data.shape#no of rows and columns"
   ]
  },
  {
   "cell_type": "markdown",
   "metadata": {},
   "source": [
    "cleaning the dataset"
   ]
  },
  {
   "cell_type": "markdown",
   "metadata": {},
   "source": [
    "deleting empty rows"
   ]
  },
  {
   "cell_type": "code",
   "execution_count": null,
   "metadata": {},
   "outputs": [],
   "source": [
    "netflix_data.isnull().sum()##number of empty cells"
   ]
  },
  {
   "cell_type": "code",
   "execution_count": null,
   "metadata": {},
   "outputs": [],
   "source": [
    "#filling the null values as \n",
    "netflix_data=netflix_data.fillna('unknown')#tbh we can just drop them"
   ]
  },
  {
   "cell_type": "code",
   "execution_count": null,
   "metadata": {},
   "outputs": [],
   "source": [
    "netflix_data.isnull().sum()##number of empty cells"
   ]
  },
  {
   "cell_type": "markdown",
   "metadata": {},
   "source": [
    "deleting duplicates "
   ]
  },
  {
   "cell_type": "code",
   "execution_count": null,
   "metadata": {},
   "outputs": [],
   "source": [
    "netflix_data=netflix_data.drop_duplicates()##deletes duplicates"
   ]
  },
  {
   "cell_type": "markdown",
   "metadata": {},
   "source": [
    "splitting the dataset into movie and tv shows"
   ]
  },
  {
   "cell_type": "code",
   "execution_count": null,
   "metadata": {},
   "outputs": [],
   "source": [
    "netflix_movie_data=netflix_data[netflix_data['type']=='Movie']#initializing data with only movies"
   ]
  },
  {
   "cell_type": "code",
   "execution_count": null,
   "metadata": {},
   "outputs": [],
   "source": [
    "netflix_movie_data.head()"
   ]
  },
  {
   "cell_type": "code",
   "execution_count": null,
   "metadata": {},
   "outputs": [],
   "source": [
    "netflix_tvshows_data=netflix_data[netflix_data['type']=='TV Show']#initializing data with only tvshows"
   ]
  },
  {
   "cell_type": "markdown",
   "metadata": {},
   "source": [
    "visualization"
   ]
  },
  {
   "cell_type": "markdown",
   "metadata": {},
   "source": [
    "for movies and tv shows"
   ]
  },
  {
   "cell_type": "markdown",
   "metadata": {},
   "source": [
    "analysing how many movies and tv shows are there "
   ]
  },
  {
   "cell_type": "code",
   "execution_count": null,
   "metadata": {},
   "outputs": [],
   "source": [
    "visulization= netflix_data.groupby('type').size().plot(kind='pie', autopct='%.2f', figsize=(6,6), colors=['#BC7FCD','#FB9AD1'],explode=[0.1,0.1])#pie chart "
   ]
  },
  {
   "cell_type": "markdown",
   "metadata": {},
   "source": [
    "majority of the dataset contains movies in it"
   ]
  },
  {
   "cell_type": "code",
   "execution_count": null,
   "metadata": {},
   "outputs": [],
   "source": [
    "plt.figure(figsize=(9,7))#size of the plot 9 is width and 7 is height\n",
    "plots= sns.countplot(data=netflix_data, x='type',hue='type',palette='pastel',edgecolor='black')#countplot of type movie and tv show\n",
    "plt.title(\"Count of Movies and TV Shows\")#title\n",
    "plt.xlabel(\"Type (Movie/TV Show)\")#X-axis\n",
    "plt.ylabel(\"Total Count\")#Y-axis\n",
    "plt.show()"
   ]
  },
  {
   "cell_type": "markdown",
   "metadata": {},
   "source": [
    "there are about 6k+ movies and 2k+ tv shows"
   ]
  },
  {
   "cell_type": "markdown",
   "metadata": {},
   "source": [
    "for ratings"
   ]
  },
  {
   "cell_type": "code",
   "execution_count": null,
   "metadata": {},
   "outputs": [],
   "source": [
    "plt.figure(figsize=(15,7))#size of the plot 9 is width and 7 is height\n",
    "plots= sns.countplot(data=netflix_data, x='rating',hue='type',palette='BuPu',edgecolor='black')#countplot of rating\n",
    "plt.title(\"Count of ratings\")#title\n",
    "plt.xlabel(\"Type of Ratings (Movie/TV Show)\")#X-axis\n",
    "plt.ylabel(\"Total Count\")#Y-axis\n",
    "plt.show()"
   ]
  },
  {
   "cell_type": "code",
   "execution_count": null,
   "metadata": {},
   "outputs": [],
   "source": [
    "#plt.figure(figsize=(15,7))#size of the plot 9 is width and 7 is height\n",
    "#plots= sns.stripplot(data=netflix_data, x='rating',y='type',hue='type',palette='coolwarm',edgecolor='black')#countplot of rating\n",
    "#plt.title(\"Count of ratings\")#title\n",
    "#plt.xlabel(\"Type of Ratings (Movie/TV Show)\")#X-axis\n",
    "#plt.ylabel(\"Total Count\")#Y-axis\n",
    "#plt.show()"
   ]
  },
  {
   "cell_type": "markdown",
   "metadata": {},
   "source": [
    "from this we can say that there are 80% of the movies are rated 12+ and 20% of the tv shows are rated 13+ and there is no movie or tv show with A rating and no movie with  PG-13 rating"
   ]
  },
  {
   "cell_type": "markdown",
   "metadata": {},
   "source": [
    "from this we can say that majority of the shows were released after 2000"
   ]
  },
  {
   "cell_type": "code",
   "execution_count": 65,
   "metadata": {},
   "outputs": [
    {
     "data": {
      "text/plain": [
       "release_year\n",
       "2018    1147\n",
       "2017    1032\n",
       "2019    1030\n",
       "2020     953\n",
       "2016     902\n",
       "2021     592\n",
       "2015     560\n",
       "2014     353\n",
       "2013     288\n",
       "2012     237\n",
       "Name: count, dtype: int64"
      ]
     },
     "execution_count": 65,
     "metadata": {},
     "output_type": "execute_result"
    }
   ],
   "source": [
    "netflix_data['release_year'].value_counts().head(10)"
   ]
  },
  {
   "cell_type": "code",
   "execution_count": 68,
   "metadata": {},
   "outputs": [
    {
     "data": {
      "text/plain": [
       "Text(0.5, 1.0, 'Number of release per year')"
      ]
     },
     "execution_count": 68,
     "metadata": {},
     "output_type": "execute_result"
    },
    {
     "data": {
      "image/png": "[encoded data removed]",
      "text/plain": [
       "<Figure size 640x480 with 1 Axes>"
      ]
     },
     "metadata": {},
     "output_type": "display_data"
    }
   ],
   "source": [
    "sns.barplot(data=netflix_data['release_year'].value_counts().head(10))\n",
    "plt.title(\"Number of release per year\")#hear i have only choose 10 "
   ]
  },
  {
   "cell_type": "markdown",
   "metadata": {},
   "source": [
    "from this graph we can say that on year 2018 most of the movies and tv shows are released"
   ]
  },
  {
   "cell_type": "markdown",
   "metadata": {},
   "source": [
    "countries with most netflix shows and movies made"
   ]
  },
  {
   "cell_type": "code",
   "execution_count": null,
   "metadata": {},
   "outputs": [],
   "source": [
    "fig = plt.subplots( figsize=(19, 5))\n",
    "g1 = sns.histplot(netflix_movie_data.duration, color='skyblue')\n",
    "g1.set_xticks(np.arange(0,360,30))\n",
    "g1.set_title(\"Duration Distribution for Netflix Movies\")\n",
    "g1.set_ylabel(\"% of All Netflix Movies\")\n",
    "g1.set_xlabel(\"Duration (minutes)\")\n"
   ]
  },
  {
   "cell_type": "markdown",
   "metadata": {},
   "source": [
    "from this we can know that maximum number of movies are in 90 minutes"
   ]
  },
  {
   "cell_type": "code",
   "execution_count": 69,
   "metadata": {},
   "outputs": [
    {
     "data": {
      "image/png": "[encoded data removed]",
      "text/plain": [
       "<Figure size 640x480 with 1 Axes>"
      ]
     },
     "metadata": {},
     "output_type": "display_data"
    }
   ],
   "source": [
    "g2 = sns.countplot(netflix_tvshows_data.duration, color='skyblue')\n",
    "g2.set_title(\"Netflix TV Shows Seasons\")\n",
    "g2.set_ylabel(\"Count\")\n",
    "g2.set_xlabel(\"Season(s)\")\n",
    "plt.show()"
   ]
  },
  {
   "cell_type": "markdown",
   "metadata": {},
   "source": [
    "maximum number of seasons is 1"
   ]
  },
  {
   "cell_type": "code",
   "execution_count": null,
   "metadata": {},
   "outputs": [],
   "source": [
    "netflix_country_count=netflix_data['country'].value_counts()\n",
    "netflix_country_count"
   ]
  },
  {
   "cell_type": "code",
   "execution_count": null,
   "metadata": {},
   "outputs": [],
   "source": [
    "fig = plt.subplots( figsize=(40, 10))\n",
    "sns.barplot(data=netflix_country_count.head(20),palette=\"Pastel1\",edgecolor=\"black\")\n",
    "plt.xlabel(\"Country\")\n",
    "plt.ylabel(\"Count\")\n",
    "plt.title(\"Country count\")"
   ]
  },
  {
   "cell_type": "code",
   "execution_count": null,
   "metadata": {},
   "outputs": [],
   "source": []
  }
 ],
 "metadata": {
  "kernelspec": {
   "display_name": "Python 3",
   "language": "python",
   "name": "python3"
  },
  "language_info": {
   "codemirror_mode": {
    "name": "ipython",
    "version": 3
   },
   "file_extension": ".py",
   "mimetype": "text/x-python",
   "name": "python",
   "nbconvert_exporter": "python",
   "pygments_lexer": "ipython3",
   "version": "3.10.5"
  }
 },
 "nbformat": 4,
 "nbformat_minor": 2
}
